{
 "cells": [
  {
   "cell_type": "code",
   "execution_count": 10,
   "id": "edd1f5ef",
   "metadata": {},
   "outputs": [],
   "source": [
    "lst = [1,5,2,4,7,8,9,10,17,3]"
   ]
  },
  {
   "cell_type": "code",
   "execution_count": 11,
   "id": "90dec3b1",
   "metadata": {},
   "outputs": [
    {
     "name": "stdout",
     "output_type": "stream",
     "text": [
      "None\n"
     ]
    }
   ],
   "source": [
    "def Bubble_sort(x):\n",
    "    n=len(x)\n",
    "    swapped=False\n",
    "    for i in range(n-1):\n",
    "        for j in range(0,n-i-1):\n",
    "            if x[j]>x[j+1]:\n",
    "                swapped=True\n",
    "                x[j],x[j+1]=x[j+1],x[j]\n",
    "        if not swapped:\n",
    "            return \n",
    "result=Bubble_sort(lst)\n",
    "print(result)\n",
    "            \n",
    "            "
   ]
  },
  {
   "cell_type": "code",
   "execution_count": null,
   "id": "ddbb5cf6",
   "metadata": {},
   "outputs": [],
   "source": []
  }
 ],
 "metadata": {
  "kernelspec": {
   "display_name": "Python 3 (ipykernel)",
   "language": "python",
   "name": "python3"
  },
  "language_info": {
   "codemirror_mode": {
    "name": "ipython",
    "version": 3
   },
   "file_extension": ".py",
   "mimetype": "text/x-python",
   "name": "python",
   "nbconvert_exporter": "python",
   "pygments_lexer": "ipython3",
   "version": "3.9.7"
  }
 },
 "nbformat": 4,
 "nbformat_minor": 5
}
