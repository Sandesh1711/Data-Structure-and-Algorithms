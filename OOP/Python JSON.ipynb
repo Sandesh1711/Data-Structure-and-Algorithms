{
 "cells": [
  {
   "cell_type": "markdown",
   "id": "4619f58a",
   "metadata": {},
   "source": [
    "The main objective of JSON is to transmit the data between the client and the web server."
   ]
  },
  {
   "cell_type": "code",
   "execution_count": 1,
   "id": "892b3243",
   "metadata": {},
   "outputs": [],
   "source": [
    "import json\n"
   ]
  },
  {
   "cell_type": "code",
   "execution_count": 3,
   "id": "c7c58426",
   "metadata": {},
   "outputs": [
    {
     "name": "stdout",
     "output_type": "stream",
     "text": [
      "['JSONDecodeError', 'JSONDecoder', 'JSONEncoder', '__all__', '__author__', '__builtins__', '__cached__', '__doc__', '__file__', '__loader__', '__name__', '__package__', '__path__', '__spec__', '__version__', '_default_decoder', '_default_encoder', 'codecs', 'decoder', 'detect_encoding', 'dump', 'dumps', 'encoder', 'load', 'loads', 'scanner']\n"
     ]
    }
   ],
   "source": [
    "# This mosule includes many built in function\n",
    "print(dir(json))"
   ]
  },
  {
   "cell_type": "markdown",
   "id": "736b7bea",
   "metadata": {},
   "source": [
    "Serialization is the technique to convert the Python objects to JSON.\n",
    "\n",
    "The json module provides the dump() and dumps() method that are used to transform Python object."
   ]
  },
  {
   "cell_type": "code",
   "execution_count": 6,
   "id": "48c76faf",
   "metadata": {},
   "outputs": [],
   "source": [
    "student = {\n",
    "    \"Name\": \"Peter\",\n",
    "    'Roll_no':\"0090014\"\n",
    "}\n",
    "with open('data.json','w') as write_file:\n",
    "    json.dump(student,write_file)"
   ]
  },
  {
   "cell_type": "code",
   "execution_count": 13,
   "id": "8bc67771",
   "metadata": {},
   "outputs": [
    {
     "name": "stdout",
     "output_type": "stream",
     "text": [
      "<class 'str'>\n"
     ]
    }
   ],
   "source": [
    "student = {\n",
    "    \"Name\": \"Peter\",\n",
    "    'Roll_no':\"0090014\"\n",
    "}\n",
    "b = json.dumps(student)\n",
    "print(type(b))"
   ]
  },
  {
   "cell_type": "code",
   "execution_count": 9,
   "id": "e4eea5dd",
   "metadata": {},
   "outputs": [
    {
     "name": "stdout",
     "output_type": "stream",
     "text": [
      "{\"Name\": \"Peter\", \"Roll_no\": \"0090014\"}\n"
     ]
    }
   ],
   "source": [
    "print(b)"
   ]
  },
  {
   "cell_type": "code",
   "execution_count": 10,
   "id": "efcbe95e",
   "metadata": {},
   "outputs": [
    {
     "name": "stdout",
     "output_type": "stream",
     "text": [
      "[\"San\", \"kal\"]\n"
     ]
    }
   ],
   "source": [
    "# python list conversion to JSON array\n",
    "print(json.dumps(['San', 'kal']))"
   ]
  },
  {
   "cell_type": "markdown",
   "id": "5fdc25d0",
   "metadata": {},
   "source": [
    "Deserialization is the process to decode the JSON data into the Python objects.\n",
    "\n",
    "The json module provides two methods load() and loads(), which are used to convert JSON data in actual Python object form."
   ]
  },
  {
   "cell_type": "code",
   "execution_count": 12,
   "id": "dff8c2fa",
   "metadata": {},
   "outputs": [
    {
     "name": "stdout",
     "output_type": "stream",
     "text": [
      "{'Name': 'Peter', 'Roll_no': '0090014'}\n",
      "<class 'dict'>\n"
     ]
    }
   ],
   "source": [
    "with open(\"data.json\",'r') as read_file:\n",
    "    c = json.load(read_file)\n",
    "    \n",
    "print(c)\n",
    "print(type(c))"
   ]
  },
  {
   "cell_type": "code",
   "execution_count": null,
   "id": "1795b3cb",
   "metadata": {},
   "outputs": [],
   "source": []
  }
 ],
 "metadata": {
  "kernelspec": {
   "display_name": "Python 3 (ipykernel)",
   "language": "python",
   "name": "python3"
  },
  "language_info": {
   "codemirror_mode": {
    "name": "ipython",
    "version": 3
   },
   "file_extension": ".py",
   "mimetype": "text/x-python",
   "name": "python",
   "nbconvert_exporter": "python",
   "pygments_lexer": "ipython3",
   "version": "3.9.7"
  }
 },
 "nbformat": 4,
 "nbformat_minor": 5
}
