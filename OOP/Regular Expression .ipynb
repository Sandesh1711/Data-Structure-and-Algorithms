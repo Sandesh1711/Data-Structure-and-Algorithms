{
 "cells": [
  {
   "cell_type": "code",
   "execution_count": 1,
   "id": "2e4929d3",
   "metadata": {},
   "outputs": [],
   "source": [
    "import re"
   ]
  },
  {
   "cell_type": "code",
   "execution_count": 4,
   "id": "9dc94aaa",
   "metadata": {},
   "outputs": [
    {
     "name": "stdout",
     "output_type": "stream",
     "text": [
      "<re.Match object; span=(0, 3), match='The'>\n"
     ]
    }
   ],
   "source": [
    "\n",
    "txt = \"The first records of text come from the early 1300s. It ultimately comes from the Latin textus, meaning 'texture' (of cloth). Textus comes from the Latin verb texere, meaning 'to weave.' The word textile also comes from texere.\"\n",
    "x = re.search(\"^The\", txt)\n",
    "print(x)"
   ]
  },
  {
   "cell_type": "markdown",
   "id": "6700526c",
   "metadata": {},
   "source": [
    "Function \tDescription\n",
    "\n",
    "findall =\tReturns a list containing all matches\n",
    "\n",
    "search =\tReturns a Match object if there is a match anywhere in the string\n",
    "\n",
    "split =\tReturns a list where the string has been split at each match\n",
    "\n",
    "sub =\tReplaces one or many matches with a string"
   ]
  },
  {
   "cell_type": "code",
   "execution_count": 14,
   "id": "7c6cfbd8",
   "metadata": {},
   "outputs": [
    {
     "name": "stdout",
     "output_type": "stream",
     "text": [
      "['ea', 'ea', 'ea', 'ea']\n"
     ]
    }
   ],
   "source": [
    "print(re.findall('ea',txt))"
   ]
  },
  {
   "cell_type": "code",
   "execution_count": 16,
   "id": "fa516c84",
   "metadata": {},
   "outputs": [
    {
     "name": "stdout",
     "output_type": "stream",
     "text": [
      "<re.Match object; span=(21, 25), match='text'>\n"
     ]
    }
   ],
   "source": [
    "print(re.search('text',txt))"
   ]
  },
  {
   "cell_type": "code",
   "execution_count": 36,
   "id": "5b66f8ba",
   "metadata": {},
   "outputs": [
    {
     "name": "stdout",
     "output_type": "stream",
     "text": [
      "<re.Match object; span=(36, 39), match='the'>\n",
      "36\n",
      "(36, 39)\n",
      "The first records of text come from the early 1300s. It ultimately comes from the Latin textus, meaning 'texture' (of cloth). Textus comes from the Latin verb texere, meaning 'to weave.' The word textile also comes from texere.\n",
      "the\n"
     ]
    }
   ],
   "source": [
    "x = re.search('the',txt)\n",
    "print(x)\n",
    "print(x.start())\n",
    "print(x.span())\n",
    "print(x.string)\n",
    "print(x.group())"
   ]
  },
  {
   "cell_type": "code",
   "execution_count": 20,
   "id": "5eb8e3c7",
   "metadata": {},
   "outputs": [],
   "source": [
    "y = re.split(\"\\s\",txt)"
   ]
  },
  {
   "cell_type": "code",
   "execution_count": 21,
   "id": "5fa0e514",
   "metadata": {},
   "outputs": [
    {
     "name": "stdout",
     "output_type": "stream",
     "text": [
      "['The', 'first', 'records', 'of', 'text', 'come', 'from', 'the', 'early', '1300s.', 'It', 'ultimately', 'comes', 'from', 'the', 'Latin', 'textus,', 'meaning', \"'texture'\", '(of', 'cloth).', 'Textus', 'comes', 'from', 'the', 'Latin', 'verb', 'texere,', 'meaning', \"'to\", \"weave.'\", 'The', 'word', 'textile', 'also', 'comes', 'from', 'texere.']\n"
     ]
    }
   ],
   "source": [
    "print(y)"
   ]
  },
  {
   "cell_type": "code",
   "execution_count": 22,
   "id": "580eebbe",
   "metadata": {},
   "outputs": [],
   "source": [
    "z = re.split(\"\\s\",txt,10)"
   ]
  },
  {
   "cell_type": "code",
   "execution_count": 23,
   "id": "1cc9c21c",
   "metadata": {},
   "outputs": [
    {
     "name": "stdout",
     "output_type": "stream",
     "text": [
      "['The', 'first', 'records', 'of', 'text', 'come', 'from', 'the', 'early', '1300s.', \"It ultimately comes from the Latin textus, meaning 'texture' (of cloth). Textus comes from the Latin verb texere, meaning 'to weave.' The word textile also comes from texere.\"]\n"
     ]
    }
   ],
   "source": [
    "print(z)"
   ]
  },
  {
   "cell_type": "code",
   "execution_count": 26,
   "id": "11190431",
   "metadata": {},
   "outputs": [],
   "source": [
    "a = re.sub('\\s','1',txt)"
   ]
  },
  {
   "cell_type": "code",
   "execution_count": 27,
   "id": "2e23f17d",
   "metadata": {},
   "outputs": [
    {
     "name": "stdout",
     "output_type": "stream",
     "text": [
      "The1first1records1of1text1come1from1the1early11300s.1It1ultimately1comes1from1the1Latin1textus,1meaning1'texture'1(of1cloth).1Textus1comes1from1the1Latin1verb1texere,1meaning1'to1weave.'1The1word1textile1also1comes1from1texere.\n"
     ]
    }
   ],
   "source": [
    "print(a)"
   ]
  },
  {
   "cell_type": "code",
   "execution_count": 29,
   "id": "649ae2b4",
   "metadata": {},
   "outputs": [],
   "source": [
    "b = re.sub('\\s','1',txt,1)"
   ]
  },
  {
   "cell_type": "code",
   "execution_count": 30,
   "id": "bdb53c17",
   "metadata": {},
   "outputs": [
    {
     "name": "stdout",
     "output_type": "stream",
     "text": [
      "The1first records of text come from the early 1300s. It ultimately comes from the Latin textus, meaning 'texture' (of cloth). Textus comes from the Latin verb texere, meaning 'to weave.' The word textile also comes from texere.\n"
     ]
    }
   ],
   "source": [
    "print(b)"
   ]
  },
  {
   "cell_type": "code",
   "execution_count": null,
   "id": "3ba2f6a8",
   "metadata": {},
   "outputs": [],
   "source": []
  }
 ],
 "metadata": {
  "kernelspec": {
   "display_name": "Python 3 (ipykernel)",
   "language": "python",
   "name": "python3"
  },
  "language_info": {
   "codemirror_mode": {
    "name": "ipython",
    "version": 3
   },
   "file_extension": ".py",
   "mimetype": "text/x-python",
   "name": "python",
   "nbconvert_exporter": "python",
   "pygments_lexer": "ipython3",
   "version": "3.9.7"
  }
 },
 "nbformat": 4,
 "nbformat_minor": 5
}
