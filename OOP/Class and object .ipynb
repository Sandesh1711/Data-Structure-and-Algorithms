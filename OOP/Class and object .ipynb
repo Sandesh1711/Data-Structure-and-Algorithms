{
 "cells": [
  {
   "cell_type": "markdown",
   "id": "80944030",
   "metadata": {},
   "source": [
    "Some points on Python class:  \n",
    "\n",
    "    Classes are created by keyword class.\n",
    "    Attributes are the variables that belong to a class.\n",
    "    Attributes are always public and can be accessed using the dot (.) operator. Eg.: Myclass.Myattribute\n",
    "    "
   ]
  },
  {
   "cell_type": "code",
   "execution_count": 1,
   "id": "c13c4211",
   "metadata": {},
   "outputs": [],
   "source": [
    "class Dog : \n",
    "    pass"
   ]
  },
  {
   "cell_type": "code",
   "execution_count": 7,
   "id": "043c91a0",
   "metadata": {},
   "outputs": [
    {
     "name": "stdout",
     "output_type": "stream",
     "text": [
      "Mammal\n",
      "I am Mammal\n"
     ]
    }
   ],
   "source": [
    "class Dog:\n",
    "    att = 'Mammal'\n",
    "    def fun(self):\n",
    "        print('I am' , self.att)\n",
    "       \n",
    "res = Dog() \n",
    "print(res.att)\n",
    "res.fun()"
   ]
  },
  {
   "cell_type": "markdown",
   "id": "1604b31d",
   "metadata": {},
   "source": [
    "When we call a method of this object as myobject.method(arg1, arg2), this is automatically converted by Python into MyClass.method(myobject, arg1, arg2) – this is all the special self is about."
   ]
  },
  {
   "cell_type": "code",
   "execution_count": 17,
   "id": "13d96d57",
   "metadata": {},
   "outputs": [
    {
     "name": "stdout",
     "output_type": "stream",
     "text": [
      "Hello Sandesh\n",
      "Your skin is  White\n",
      "Sandesh\n"
     ]
    }
   ],
   "source": [
    "# Class Person\n",
    "class Person:\n",
    "    # Class variable\n",
    "    name = \"Sandesh\"\n",
    "    \n",
    "    # init method or constructor\n",
    "    def __init__(self,color):\n",
    "        \n",
    "        # instance variable\n",
    "        self.color = color\n",
    "        \n",
    "    def Hello(self):  \n",
    "        print(\"Hello\",self.name)\n",
    "        print(\"Your skin is \",self.color)\n",
    "        \n",
    "out = Person('White')\n",
    "out.Hello()\n",
    "\n",
    "# class variable can be accessed using class name also\n",
    "print(Person.name)\n",
    "\n"
   ]
  },
  {
   "cell_type": "markdown",
   "id": "dc70ca37",
   "metadata": {},
   "source": [
    "Constructors are generally used for instantiating an object.\n",
    "The task of constructors is to initialize(assign values) to \n",
    "the data members of the class when an object of the class is created.\n",
    "In Python the __init__() method is called the constructor and is always\n",
    "called when an object is created."
   ]
  },
  {
   "cell_type": "markdown",
   "id": "db8b2608",
   "metadata": {},
   "source": [
    "Types of constructors : \n",
    "\n",
    "    default constructor: The default constructor is a simple constructor which doesn’t accept any arguments. Its definition has only one argument which is a reference to the instance being constructed.\n",
    "    \n",
    "    \n",
    "    parameterized constructor: constructor with parameters is known as parameterized constructor. The parameterized constructor takes its first argument as a reference to the instance being constructed known as self and the rest of the arguments are provided by the programmer."
   ]
  },
  {
   "cell_type": "code",
   "execution_count": 21,
   "id": "1bc9e893",
   "metadata": {},
   "outputs": [
    {
     "name": "stdout",
     "output_type": "stream",
     "text": [
      "name is  Sandesh\n"
     ]
    }
   ],
   "source": [
    "class Person :\n",
    "     # default constructor\n",
    "    def __init__(self):\n",
    "        self.name = \"Sandesh\"\n",
    "            \n",
    "     # method for  printing data members\n",
    "    def print_value(self):\n",
    "        print(\"name is \", self.name)\n",
    "            \n",
    "obj = Person()\n",
    "obj.print_value()"
   ]
  },
  {
   "cell_type": "code",
   "execution_count": 26,
   "id": "770d692b",
   "metadata": {},
   "outputs": [
    {
     "name": "stdout",
     "output_type": "stream",
     "text": [
      "Sum :  10\n"
     ]
    }
   ],
   "source": [
    "class Addition:\n",
    "\n",
    "    # parameterized constructor\n",
    "    def __init__(self,f,s):\n",
    "        self.f=f\n",
    "        self.s=s\n",
    "        \n",
    "    def display(self):\n",
    "        print(\"Sum : \",self.f + self.s)\n",
    "        \n",
    "obj = Addition(5,5) \n",
    "obj.display()"
   ]
  },
  {
   "cell_type": "markdown",
   "id": "5aedf21b",
   "metadata": {},
   "source": [
    "The __del__() method is a known as a destructor method in Python."
   ]
  },
  {
   "cell_type": "code",
   "execution_count": 29,
   "id": "2216a4a7",
   "metadata": {},
   "outputs": [
    {
     "name": "stdout",
     "output_type": "stream",
     "text": [
      "Employ created\n",
      "employ deleted\n",
      "employ deleted\n"
     ]
    }
   ],
   "source": [
    "class Employee:\n",
    "    def __init__(self):\n",
    "        print(\"Employ created\")\n",
    "        \n",
    "    def __del__(self):\n",
    "        print(\"employ deleted\")\n",
    "        \n",
    "obj = Employee()\n",
    "del obj"
   ]
  },
  {
   "cell_type": "code",
   "execution_count": 43,
   "id": "b0668b1d",
   "metadata": {},
   "outputs": [
    {
     "name": "stdout",
     "output_type": "stream",
     "text": [
      "1000 junior\n",
      "sandesh 1\n"
     ]
    }
   ],
   "source": [
    "class A:\n",
    "    def __init__(self,name,idnumber):\n",
    "        self.name=name\n",
    "        self.idnumber=idnumber\n",
    "        \n",
    "    def display(self):\n",
    "        print(self.name, self.idnumber)\n",
    "        \n",
    "class B(A):\n",
    "    def __init__(self,name,idnumber,salary,post):\n",
    "        self.salary=salary\n",
    "        self.post=post\n",
    "        # invoking the __init__ of the parent class\n",
    "        A.__init__(self,name,idnumber)\n",
    "        \n",
    "    def display(self):\n",
    "        print(self.salary, self.post)\n",
    "        \n",
    "        \n",
    "    def parent(self):\n",
    "        print(self.name,self.idnumber)\n",
    "\n",
    "obj2 = B(\"sandesh\", 1,1000,'junior')\n",
    "\n",
    "obj2.display()\n",
    "obj2.parent()"
   ]
  },
  {
   "cell_type": "markdown",
   "id": "4511e65c",
   "metadata": {},
   "source": [
    "Private members of the parent class \n",
    "\n",
    "We don’t always want the instance variables of the parent class to be inherited by the child class i.e. we can make some of the instance variables of the parent class private, which won’t be available to the child class. \n",
    "We can make an instance variable private by adding double underscores before its name."
   ]
  },
  {
   "cell_type": "code",
   "execution_count": 47,
   "id": "5ea652fb",
   "metadata": {},
   "outputs": [
    {
     "name": "stdout",
     "output_type": "stream",
     "text": [
      "sandesh\n",
      "hero\n"
     ]
    }
   ],
   "source": [
    "class C:\n",
    "    def __init__(self):\n",
    "        self.name = \"sandesh\"\n",
    "        \n",
    "        self.__roll = 1\n",
    "        \n",
    "class D(C):\n",
    "    def __init__(self):\n",
    "        self.d = \"hero\"\n",
    "        C.__init__(self)\n",
    "        \n",
    "        \n",
    "obj = D()\n",
    "print(obj.name)\n",
    "print(obj.d)\n",
    "#print(obj.__roll)\n",
    "        "
   ]
  },
  {
   "cell_type": "markdown",
   "id": "b959721b",
   "metadata": {},
   "source": [
    "Protected members (in C++ and JAVA) are those members of the class that cannot be accessed outside the class but can be accessed from within the class and its subclasses.\n",
    "follow the convention by prefixing the name of the member by a single underscore “_”."
   ]
  },
  {
   "cell_type": "code",
   "execution_count": 50,
   "id": "59d4bfea",
   "metadata": {},
   "outputs": [
    {
     "name": "stdout",
     "output_type": "stream",
     "text": [
      "calling protected member of base class: sandesh\n",
      "calling modified protected member outside class: 3\n",
      "accessing protected member of obj1: 3\n",
      "accessing protected member of obj2: sandesh\n"
     ]
    }
   ],
   "source": [
    "class Base: \n",
    "    def __init__(self):\n",
    "    # protected member\n",
    "        self._a =\"sandesh\"\n",
    "        \n",
    "class Derived(Base):\n",
    "    def __init__(self):\n",
    "        # calling constructor of base class\n",
    "        Base.__init__(self)\n",
    "        print(\"calling protected member of base class:\", self._a)\n",
    "        \n",
    "        \n",
    "        # modify the protected variable\n",
    "        self._a = 3\n",
    "        print(\"calling modified protected member outside class:\",self._a)\n",
    "        \n",
    "        \n",
    "obj1 = Derived()\n",
    "obj2 = Base()\n",
    "            \n",
    "print(\"accessing protected member of obj1:\", obj1._a)\n",
    "print(\"accessing protected member of obj2:\", obj2._a)"
   ]
  },
  {
   "cell_type": "code",
   "execution_count": null,
   "id": "a3eec11a",
   "metadata": {},
   "outputs": [],
   "source": []
  }
 ],
 "metadata": {
  "kernelspec": {
   "display_name": "Python 3 (ipykernel)",
   "language": "python",
   "name": "python3"
  },
  "language_info": {
   "codemirror_mode": {
    "name": "ipython",
    "version": 3
   },
   "file_extension": ".py",
   "mimetype": "text/x-python",
   "name": "python",
   "nbconvert_exporter": "python",
   "pygments_lexer": "ipython3",
   "version": "3.9.7"
  }
 },
 "nbformat": 4,
 "nbformat_minor": 5
}
