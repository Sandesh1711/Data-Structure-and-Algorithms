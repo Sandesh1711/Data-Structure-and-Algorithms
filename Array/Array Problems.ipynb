{
 "cells": [
  {
   "cell_type": "markdown",
   "id": "a221566b",
   "metadata": {},
   "source": [
    "## Program for array rotation"
   ]
  },
  {
   "cell_type": "code",
   "execution_count": 10,
   "id": "231e34bb",
   "metadata": {},
   "outputs": [
    {
     "name": "stdout",
     "output_type": "stream",
     "text": [
      "[5, 6, 7, 4, 1, 3]\n"
     ]
    }
   ],
   "source": [
    "def ArrRot(arr,d):\n",
    "    temp=[]\n",
    "    temp = arr[d:]+arr[0:d]\n",
    "\n",
    "    \n",
    "    return temp\n",
    "\n",
    "if __name__=='__main__':\n",
    "    arr1 = [1,3,5,6,7,4]\n",
    "    n=2\n",
    "    result = ArrRot(arr1,n)\n",
    "    print(result)\n",
    "    \n",
    "    "
   ]
  },
  {
   "cell_type": "code",
   "execution_count": 9,
   "id": "369856a7",
   "metadata": {},
   "outputs": [
    {
     "name": "stdout",
     "output_type": "stream",
     "text": [
      "1\n"
     ]
    }
   ],
   "source": [
    "arr = [1,4,6,7,5]\n",
    "k = arr.index(4)\n",
    "print(k)"
   ]
  },
  {
   "cell_type": "code",
   "execution_count": 12,
   "id": "c5838165",
   "metadata": {},
   "outputs": [
    {
     "name": "stdout",
     "output_type": "stream",
     "text": [
      "range(0, 1)\n"
     ]
    }
   ],
   "source": [
    "a = range(1)\n",
    "print(a)"
   ]
  },
  {
   "cell_type": "code",
   "execution_count": 15,
   "id": "b379c0c0",
   "metadata": {},
   "outputs": [
    {
     "name": "stdout",
     "output_type": "stream",
     "text": [
      "1\n",
      "3\n",
      "5\n"
     ]
    }
   ],
   "source": [
    "for i in range(1,6,2):\n",
    "    print(i)"
   ]
  },
  {
   "cell_type": "code",
   "execution_count": 27,
   "id": "4d8023e2",
   "metadata": {},
   "outputs": [
    {
     "name": "stdout",
     "output_type": "stream",
     "text": [
      "[5, 3, 7, 9, 1, 4]\n"
     ]
    }
   ],
   "source": [
    "def Rotate(arr,d,n):\n",
    "    p=1\n",
    "    while (p<=d):\n",
    "        last =arr[0]\n",
    "        for i in range(n-1):\n",
    "            arr[i]=arr[i+1]\n",
    "            \n",
    "        arr[n-1]=last\n",
    "        \n",
    "        p=p+1\n",
    "    return arr\n",
    "arr1=[1,4,5,3,7,9]\n",
    "N = len(arr1)\n",
    "D=2\n",
    "result = Rotate(arr1,D,N)\n",
    "print(result)"
   ]
  },
  {
   "cell_type": "code",
   "execution_count": null,
   "id": "df5a335d",
   "metadata": {},
   "outputs": [],
   "source": []
  }
 ],
 "metadata": {
  "kernelspec": {
   "display_name": "Python 3 (ipykernel)",
   "language": "python",
   "name": "python3"
  },
  "language_info": {
   "codemirror_mode": {
    "name": "ipython",
    "version": 3
   },
   "file_extension": ".py",
   "mimetype": "text/x-python",
   "name": "python",
   "nbconvert_exporter": "python",
   "pygments_lexer": "ipython3",
   "version": "3.9.7"
  }
 },
 "nbformat": 4,
 "nbformat_minor": 5
}
